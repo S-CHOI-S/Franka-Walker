{
 "cells": [
  {
   "cell_type": "code",
   "execution_count": 9,
   "id": "c14f8445",
   "metadata": {},
   "outputs": [],
   "source": [
    "import torch\n",
    "import gymnasium as gym\n",
    "import numpy as np\n",
    "import matplotlib.pyplot as plt\n",
    "from IPython.display import display, clear_output\n",
    "from collections import deque\n",
    "from tqdm import tqdm\n",
    "\n",
    "from walker import PPO"
   ]
  },
  {
   "cell_type": "code",
   "execution_count": 11,
   "id": "d4ac3e20",
   "metadata": {},
   "outputs": [
    {
     "name": "stdout",
     "output_type": "stream",
     "text": [
      "Total reward: -13.92208840538857\n"
     ]
    }
   ],
   "source": [
    "device = torch.device(\"cuda\" if torch.cuda.is_available() else \"cpu\")\n",
    "\n",
    "# Initialize environment\n",
    "env = gym.make('Walker2d-v4', render_mode='rgb_array')\n",
    "\n",
    "# Number of state and action\n",
    "N_S = env.observation_space.shape[0]\n",
    "N_A = env.action_space.shape[0]\n",
    "\n",
    "# Initialize PPO model\n",
    "ppo = PPO(N_S, N_A)\n",
    "\n",
    "# Load the saved model\n",
    "log_dir = \"../runs/vessl/\"\n",
    "ppo.load(log_dir)\n",
    "\n",
    "# Test the model and render in Jupyter Notebook\n",
    "state, _ = env.reset()\n",
    "done = False\n",
    "total_reward = 0\n",
    "\n",
    "while not done:\n",
    "    action = ppo.actor_net.choose_action(torch.from_numpy(np.array(state).astype(np.float32)).unsqueeze(0))[0]\n",
    "#     state = torch.tensor(state, dtype=torch.float32).unsqueeze(0).to(device)\n",
    "#     action = ppo.actor_net.choose_action(state)\n",
    "    state, reward, truncated, terminated, info = env.step(action)\n",
    "    total_reward += reward\n",
    "    done = truncated or terminated\n",
    "\n",
    "    # Render the environment and display the frame in Jupyter Notebook\n",
    "    frame = env.render()\n",
    "    # plt.imshow(frame)\n",
    "    # display(plt.gcf())\n",
    "    # clear_output(wait=True)\n",
    "\n",
    "print('Total reward:', total_reward)\n",
    "env.close()"
   ]
  },
  {
   "cell_type": "code",
   "execution_count": null,
   "id": "89314b00",
   "metadata": {},
   "outputs": [],
   "source": []
  }
 ],
 "metadata": {
  "kernelspec": {
   "display_name": "Python 3 (ipykernel)",
   "language": "python",
   "name": "python3"
  },
  "language_info": {
   "codemirror_mode": {
    "name": "ipython",
    "version": 3
   },
   "file_extension": ".py",
   "mimetype": "text/x-python",
   "name": "python",
   "nbconvert_exporter": "python",
   "pygments_lexer": "ipython3",
   "version": "3.9.19"
  }
 },
 "nbformat": 4,
 "nbformat_minor": 5
}
