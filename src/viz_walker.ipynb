{
 "cells": [
  {
   "cell_type": "code",
   "execution_count": 1,
   "id": "d2fad5b2",
   "metadata": {},
   "outputs": [],
   "source": [
    "import torch\n",
    "import gymnasium as gym\n",
    "import numpy as np\n",
    "import matplotlib.pyplot as plt\n",
    "from IPython.display import display, clear_output\n",
    "from collections import deque\n",
    "from tqdm import tqdm\n",
    "\n",
    "from walker import PPO, Normalize"
   ]
  },
  {
   "cell_type": "code",
   "execution_count": 50,
   "id": "6da2b5a4",
   "metadata": {},
   "outputs": [
    {
     "name": "stdout",
     "output_type": "stream",
     "text": [
      "episode:  0 \tscore:  -28.49085352701228\n",
      "episode:  1 \tscore:  918.9236616052549\n",
      "episode:  2 \tscore:  244.0886463266289\n",
      "episode:  3 \tscore:  391.16404756512503\n",
      "episode:  4 \tscore:  403.39598925514485\n",
      "episode:  5 \tscore:  385.83547040053736\n",
      "episode:  6 \tscore:  43.305298353778305\n",
      "episode:  7 \tscore:  314.4721261001506\n",
      "episode:  8 \tscore:  305.97972889533946\n",
      "episode:  9 \tscore:  330.19372103715784\n"
     ]
    }
   ],
   "source": [
    "device = torch.device(\"cuda\" if torch.cuda.is_available() else \"cpu\")\n",
    "\n",
    "# Initialize environment\n",
    "env = gym.make('Walker2d-v4', render_mode='rgb_array')\n",
    "\n",
    "# Number of state and action\n",
    "N_S = env.observation_space.shape[0]\n",
    "N_A = env.action_space.shape[0]\n",
    "\n",
    "# Initialize PPO model\n",
    "ppo = PPO(N_S, N_A)\n",
    "normalize = Normalize(N_S)\n",
    "\n",
    "# Load the saved model\n",
    "log_dir = \"../runs/20240709_14-44-31/15000/ppo/\"\n",
    "ppo.load(log_dir)\n",
    "normalize.load_params(log_dir + \"../../normalize_params.npy\")\n",
    "ppo.actor_net.eval()\n",
    "\n",
    "# Test the model\n",
    "now_state, _ = env.reset()\n",
    "now_state = normalize(now_state)\n",
    "\n",
    "test_total_reward = 0\n",
    "test_episodes = 10  # Number of episodes to test\n",
    "for episode_id in range(test_episodes):\n",
    "    now_state, _ = env.reset()\n",
    "    now_state = normalize(now_state)\n",
    "    score = 0\n",
    "    for _ in range(1000):\n",
    "#         env.render()\n",
    "\n",
    "        #with torch.no_grad():\n",
    "            #ppo.actor_net.eval()\n",
    "        a = ppo.actor_net.choose_action(torch.from_numpy(np.array(now_state).astype(np.float32)).unsqueeze(0))[0]\n",
    "        now_state, r, done, _, _ = env.step(a)\n",
    "        now_state = normalize(now_state)\n",
    "        score += r\n",
    "\n",
    "        if done:\n",
    "            env.reset()\n",
    "            break\n",
    "    print(\"episode: \", episode_id, \"\\tscore: \", score)\n",
    "    \n",
    "# for _ in range(test_episodes):\n",
    "#     state, _ = env.reset()\n",
    "#     state = normalize(state)\n",
    "#     done = False\n",
    "#     episode_reward = 0\n",
    "#     while not done:\n",
    "#         action = ppo.actor_net.choose_action(torch.from_numpy(np.array(state).astype(np.float32)).unsqueeze(0))[0]\n",
    "#         next_state, reward, truncated, terminated, info = env.step(action)\n",
    "#         episode_reward += reward\n",
    "#         state = normalize(next_state)\n",
    "#         done = truncated or terminated\n",
    "#     test_total_reward += episode_reward\n",
    "# average_test_reward = test_total_reward / test_episodes\n",
    "# print('Average test reward: {:.2f}'.format(average_test_reward))"
   ]
  },
  {
   "cell_type": "code",
   "execution_count": null,
   "id": "53c0b6da",
   "metadata": {},
   "outputs": [],
   "source": []
  }
 ],
 "metadata": {
  "kernelspec": {
   "display_name": "Python 3 (ipykernel)",
   "language": "python",
   "name": "python3"
  },
  "language_info": {
   "codemirror_mode": {
    "name": "ipython",
    "version": 3
   },
   "file_extension": ".py",
   "mimetype": "text/x-python",
   "name": "python",
   "nbconvert_exporter": "python",
   "pygments_lexer": "ipython3",
   "version": "3.10.6"
  }
 },
 "nbformat": 4,
 "nbformat_minor": 5
}
