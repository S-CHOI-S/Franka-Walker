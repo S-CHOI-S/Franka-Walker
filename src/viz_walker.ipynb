{
 "cells": [
  {
   "cell_type": "code",
   "execution_count": 1,
   "id": "38e9b091",
   "metadata": {},
   "outputs": [],
   "source": [
    "import torch\n",
    "import gymnasium as gym\n",
    "import numpy as np\n",
    "import matplotlib.pyplot as plt\n",
    "from IPython.display import display, clear_output\n",
    "from collections import deque\n",
    "from tqdm import tqdm\n",
    "\n",
    "from walker import PPO, Normalize\n",
    "\n",
    "RED = \"\\033[31m\"\n",
    "GREEN = \"\\033[32m\"\n",
    "YELLOW = \"\\033[33m\"\n",
    "BLUE = \"\\033[34m\"\n",
    "MAGENTA = \"\\033[35m\"\n",
    "CYAN = \"\\033[36m\"\n",
    "RESET = \"\\033[0m\"\n",
    "\n",
    "device = torch.device(\"cuda\" if torch.cuda.is_available() else \"cpu\")"
   ]
  },
  {
   "cell_type": "code",
   "execution_count": 1,
   "id": "0d70d2d7",
   "metadata": {},
   "outputs": [],
   "source": [
    "# Initialize environment\n",
    "env = gym.make('Walker2d-v4', render_mode='human')\n",
    "\n",
    "log_dir = \"../runs/20240711_15-21-10/\"\n",
    "\n",
    "# Number of state and action\n",
    "N_S = env.observation_space.shape[0]\n",
    "N_A = env.action_space.shape[0]\n",
    "\n",
    "# Initialize PPO model\n",
    "ppo = PPO(N_S, N_A, log_dir)\n",
    "normalize = Normalize(N_S)\n",
    "\n",
    "# Load the saved model\n",
    "ppo.actor_net.load_model()\n",
    "ppo.actor_net.eval()"
   ]
  },
  {
   "cell_type": "code",
   "execution_count": 50,
   "id": "f021874c",
   "metadata": {},
   "outputs": [
    {
     "name": "stdout",
     "output_type": "stream",
     "text": [
      "episode:  0 \tscore:  -28.49085352701228\n",
      "episode:  1 \tscore:  918.9236616052549\n",
      "episode:  2 \tscore:  244.0886463266289\n",
      "episode:  3 \tscore:  391.16404756512503\n",
      "episode:  4 \tscore:  403.39598925514485\n",
      "episode:  5 \tscore:  385.83547040053736\n",
      "episode:  6 \tscore:  43.305298353778305\n",
      "episode:  7 \tscore:  314.4721261001506\n",
      "episode:  8 \tscore:  305.97972889533946\n",
      "episode:  9 \tscore:  330.19372103715784\n"
     ]
    }
   ],
   "source": [
    "# Test the model\n",
    "state, _ = env.reset()\n",
    "state = normalize(state)\n",
    "\n",
    "test_total_reward = 0\n",
    "test_episodes = 10  # Number of episodes to test\n",
    "for episode_id in range(test_episodes):\n",
    "    state, _ = env.reset()\n",
    "    state = normalize(state)\n",
    "    score = 0\n",
    "    for _ in range(1000):\n",
    "        action = ppo.actor_net.choose_action(state)\n",
    "        # print(f\"{YELLOW}walker velocity: {RESET}\", state[8])\n",
    "        state, reward, done, _, _ = env.step(action)\n",
    "        state = normalize(state)\n",
    "        score += reward\n",
    "\n",
    "        if done:\n",
    "            env.reset()\n",
    "            break\n",
    "    \n",
    "    print(\"episode: \", episode_id, \"\\tscore: \", score)\n",
    "env.close()"
   ]
  },
  {
   "cell_type": "code",
   "execution_count": null,
   "id": "28a3bf10",
   "metadata": {},
   "outputs": [],
   "source": []
  }
 ],
 "metadata": {
  "kernelspec": {
   "display_name": "Python 3 (ipykernel)",
   "language": "python",
   "name": "python3"
  },
  "language_info": {
   "codemirror_mode": {
    "name": "ipython",
    "version": 3
   },
   "file_extension": ".py",
   "mimetype": "text/x-python",
   "name": "python",
   "nbconvert_exporter": "python",
   "pygments_lexer": "ipython3",
   "version": "3.10.6"
  }
 },
 "nbformat": 4,
 "nbformat_minor": 5
}
