{
 "cells": [
  {
   "cell_type": "code",
   "execution_count": 1,
   "id": "eeaad09f",
   "metadata": {},
   "outputs": [],
   "source": [
    "import torch\n",
    "import gymnasium as gym\n",
    "import numpy as np\n",
    "import matplotlib.pyplot as plt\n",
    "from IPython.display import display, clear_output\n",
    "from collections import deque\n",
    "from tqdm import tqdm\n",
    "\n",
    "from walker import PPO, Normalize"
   ]
  },
  {
   "cell_type": "code",
   "execution_count": 25,
   "id": "940217d0",
   "metadata": {},
   "outputs": [
    {
     "name": "stdout",
     "output_type": "stream",
     "text": [
      "episode:  0 \tscore:  2.208516010088635\n",
      "episode:  1 \tscore:  7.215898441911826\n",
      "episode:  2 \tscore:  -15.911611703431799\n",
      "episode:  3 \tscore:  -11.40454163017532\n",
      "episode:  4 \tscore:  -22.853406463803356\n",
      "episode:  5 \tscore:  -22.70895037888944\n",
      "episode:  6 \tscore:  -19.829054643318152\n",
      "episode:  7 \tscore:  -42.53286963474444\n",
      "episode:  8 \tscore:  -16.60295789560731\n",
      "episode:  9 \tscore:  -23.146209907657855\n"
     ]
    }
   ],
   "source": [
    "device = torch.device(\"cuda\" if torch.cuda.is_available() else \"cpu\")\n",
    "\n",
    "# Initialize environment\n",
    "env = gym.make('Walker2d-v4', render_mode='rgb_array')\n",
    "\n",
    "# Number of state and action\n",
    "N_S = env.observation_space.shape[0]\n",
    "N_A = env.action_space.shape[0]\n",
    "\n",
    "# Initialize PPO model\n",
    "ppo = PPO(N_S, N_A)\n",
    "normalize = Normalize(N_S)\n",
    "\n",
    "# Load the saved model\n",
    "log_dir = \"../runs/20240709_14-44-31/1000/ppo/\"\n",
    "ppo.load(log_dir)\n",
    "normalize.load_params(log_dir + \"../../normalize_params.npy\")\n",
    "\n",
    "# Test the model\n",
    "test_total_reward = 0\n",
    "test_episodes = 10  # Number of episodes to test\n",
    "for episode_id in range(test_episodes):\n",
    "    now_state, _ = env.reset(seed=500)\n",
    "    now_state = normalize(now_state)\n",
    "    score = 0\n",
    "    for _ in range(1000):\n",
    "#         env.render()\n",
    "\n",
    "        with torch.no_grad():\n",
    "            ppo.actor_net.eval()\n",
    "            a = ppo.actor_net.choose_action(torch.from_numpy(np.array(now_state).astype(np.float32)).unsqueeze(0))[0]\n",
    "        now_state, r, done, _, _ = env.step(a)\n",
    "        now_state = normalize(now_state)\n",
    "        score += r\n",
    "\n",
    "        if done:\n",
    "            break\n",
    "    print(\"episode: \", episode_id, \"\\tscore: \", score)\n",
    "    \n",
    "# for _ in range(test_episodes):\n",
    "#     state, _ = env.reset()\n",
    "#     state = normalize(state)\n",
    "#     done = False\n",
    "#     episode_reward = 0\n",
    "#     while not done:\n",
    "#         action = ppo.actor_net.choose_action(torch.from_numpy(np.array(state).astype(np.float32)).unsqueeze(0))[0]\n",
    "#         next_state, reward, truncated, terminated, info = env.step(action)\n",
    "#         episode_reward += reward\n",
    "#         state = normalize(next_state)\n",
    "#         done = truncated or terminated\n",
    "#     test_total_reward += episode_reward\n",
    "# average_test_reward = test_total_reward / test_episodes\n",
    "# print('Average test reward: {:.2f}'.format(average_test_reward))"
   ]
  },
  {
   "cell_type": "code",
   "execution_count": null,
   "id": "83688906",
   "metadata": {},
   "outputs": [],
   "source": []
  }
 ],
 "metadata": {
  "kernelspec": {
   "display_name": "Python 3 (ipykernel)",
   "language": "python",
   "name": "python3"
  },
  "language_info": {
   "codemirror_mode": {
    "name": "ipython",
    "version": 3
   },
   "file_extension": ".py",
   "mimetype": "text/x-python",
   "name": "python",
   "nbconvert_exporter": "python",
   "pygments_lexer": "ipython3",
   "version": "3.10.6"
  }
 },
 "nbformat": 4,
 "nbformat_minor": 5
}
