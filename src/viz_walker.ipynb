{
 "cells": [
  {
   "cell_type": "code",
   "execution_count": null,
   "id": "26c5d103",
   "metadata": {},
   "outputs": [],
   "source": [
    "import torch\n",
    "import gymnasium as gym\n",
    "import numpy as np\n",
    "import matplotlib.pyplot as plt\n",
    "from IPython.display import display, clear_output\n",
    "from collections import deque\n",
    "from tqdm import tqdm\n",
    "\n",
    "from walker import PPO, Normalize\n",
    "\n",
    "from color_code import *\n",
    "\n",
    "device = torch.device(\"cuda\" if torch.cuda.is_available() else \"cpu\")"
   ]
  },
  {
   "cell_type": "code",
   "execution_count": null,
   "id": "6eb098b6",
   "metadata": {},
   "outputs": [],
   "source": [
    "# Initialize environment\n",
    "env = gym.make('Walker2d-v4', render_mode='human')\n",
    "\n",
    "# log_dir = \"../runs/20240715_19-42-33/\"\n",
    "log_dir = \"../runs/20240716_14-00-55/\"\n",
    "\n",
    "# Number of state and action\n",
    "N_S = env.observation_space.shape[0]\n",
    "N_A = env.action_space.shape[0]\n",
    "\n",
    "# Initialize PPO model\n",
    "ppo = PPO(N_S, N_A, log_dir)\n",
    "normalize = Normalize(N_S, log_dir, train_mode=False)\n",
    "\n",
    "# Load the saved model\n",
    "ppo.actor_net.load_model()\n",
    "ppo.actor_net.eval()\n",
    "normalize.load_params()"
   ]
  },
  {
   "cell_type": "code",
   "execution_count": null,
   "id": "16fdd356",
   "metadata": {},
   "outputs": [],
   "source": [
    "# Test the model\n",
    "state, _ = env.reset()\n",
    "state = normalize(state)\n",
    "\n",
    "test_total_reward = 0\n",
    "test_episodes = 10  # Number of episodes to test\n",
    "for episode_id in range(test_episodes):\n",
    "    state, _ = env.reset()\n",
    "    state = normalize(state)\n",
    "    score = 0\n",
    "    cstrnt1 = []\n",
    "    for _ in range(1000):\n",
    "        action = ppo.actor_net.choose_action(state)\n",
    "        # print(f\"{YELLOW}walker velocity: {RESET}\", state[8])\n",
    "        state, reward, done, _, _ = env.step(action)\n",
    "        state = normalize(state)\n",
    "        score += reward\n",
    "        \n",
    "        cstrnt1.append(state[1])\n",
    "\n",
    "        if done:\n",
    "            env.reset()\n",
    "            break\n",
    "    \n",
    "    cstrnt1_avg = np.mean(cstrnt1)\n",
    "    print(\"episode: \", episode_id, \"\\tscore: \", score, \"\\ty_angle_of_the_torso: \", cstrnt1_avg)\n",
    "env.close()"
   ]
  }
 ],
 "metadata": {
  "kernelspec": {
   "display_name": "Python 3 (ipykernel)",
   "language": "python",
   "name": "python3"
  },
  "language_info": {
   "codemirror_mode": {
    "name": "ipython",
    "version": 3
   },
   "file_extension": ".py",
   "mimetype": "text/x-python",
   "name": "python",
   "nbconvert_exporter": "python",
   "pygments_lexer": "ipython3",
   "version": "3.9.19"
  }
 },
 "nbformat": 4,
 "nbformat_minor": 5
}
